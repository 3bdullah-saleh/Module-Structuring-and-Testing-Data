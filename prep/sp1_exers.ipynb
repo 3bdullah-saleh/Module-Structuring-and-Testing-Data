{
 "cells": [
  {
   "cell_type": "markdown",
   "id": "aba94673",
   "metadata": {},
   "source": [
    "# Exercise 1"
   ]
  },
  {
   "cell_type": "markdown",
   "id": "adfc158d",
   "metadata": {},
   "source": [
    "Write a function that will calculate the area of a rectangle. given it's width and height \n",
    "You can use the code samples below as a starting point.\n"
   ]
  },
  {
   "cell_type": "code",
   "execution_count": null,
   "id": "cccf820b",
   "metadata": {
    "vscode": {
     "languageId": "javascript"
    }
   },
   "outputs": [],
   "source": [
    "// let width = 3;\n",
    "// let height = 4;\n",
    "\n",
    "// function calculateArea() {\n",
    "//   const area = width * height;\n",
    "// }\n",
    "\n",
    "// console.log(area);"
   ]
  },
  {
   "cell_type": "markdown",
   "id": "10f70676",
   "metadata": {},
   "source": [
    "Solution"
   ]
  },
  {
   "cell_type": "code",
   "execution_count": null,
   "id": "10dee30b",
   "metadata": {
    "vscode": {
     "languageId": "javascript"
    }
   },
   "outputs": [],
   "source": [
    "function calculateArea(width, height) {\n",
    "  const area = width * height;\n",
    "  console.log('I am inside the function');\n",
    "  return area;\n",
    "}\n",
    "\n",
    "const result = calculateArea(3, 4);\n",
    "console.log(result);"
   ]
  },
  {
   "cell_type": "markdown",
   "id": "ce8339dd",
   "metadata": {},
   "source": [
    "# Exercise 2"
   ]
  },
  {
   "cell_type": "markdown",
   "id": "f9cc0a79",
   "metadata": {},
   "source": [
    "Practice solving problems with the following code"
   ]
  },
  {
   "cell_type": "code",
   "execution_count": 5,
   "id": "57ac13cb",
   "metadata": {
    "vscode": {
     "languageId": "javascript"
    }
   },
   "outputs": [],
   "source": [
    "function capitaliseFirstLetter(name) {\n",
    "  console.log(name[0].toUpperCase() + name.substring(1));\n",
    "}\n",
    "\n",
    "function createGreeting(name) {\n",
    "  const result = capitaliseFirstLetter(name);\n",
    "  return `Welcome ${result}`;\n",
    "}\n",
    "\n",
    "const greeting = createGreeting(\"barath\");\n",
    "console.log(greeting);"
   ]
  },
  {
   "cell_type": "markdown",
   "id": "7227dde3",
   "metadata": {},
   "source": [
    "solution"
   ]
  },
  {
   "cell_type": "markdown",
   "id": "7789db26",
   "metadata": {},
   "source": []
  }
 ],
 "metadata": {
  "kernelspec": {
   "display_name": "Python 3",
   "language": "python",
   "name": "python3"
  },
  "language_info": {
   "codemirror_mode": {
    "name": "ipython",
    "version": 3
   },
   "file_extension": ".py",
   "mimetype": "text/x-python",
   "name": "python",
   "nbconvert_exporter": "python",
   "pygments_lexer": "ipython3",
   "version": "3.9.6"
  }
 },
 "nbformat": 4,
 "nbformat_minor": 5
}
